{
 "cells": [
  {
   "cell_type": "code",
   "execution_count": null,
   "id": "7e1111ea-ab18-4ce3-8896-ad626bb431e5",
   "metadata": {},
   "outputs": [],
   "source": [
    "import numpy as np\n",
    "from sklearn.model_selection import train_test_split\n",
    "import matplotlib.pyplot as plt"
   ]
  },
  {
   "cell_type": "code",
   "execution_count": null,
   "id": "40065029-f243-43ef-bd4a-a3c4be022061",
   "metadata": {},
   "outputs": [],
   "source": [
    "class Perceptron:\n",
    "    def __init__(self, lr=0.01, n_iters=1_000):\n",
    "        self.lr = lr\n",
    "        self.n_iters = n_iters\n",
    "        self.activation = lambda z: np.where(z >= 0, 1, -1)\n",
    "\n",
    "    def fit(self, X, y):\n",
    "        n_samples, n_features = X.shape\n",
    "        self.weights = np.zeros(n_features)\n",
    "        self.bias = 0.0\n",
    "        \n",
    "        for _ in range(self.n_iters):\n",
    "            errors = 0\n",
    "            for i in np.random.permutation(n_samples):\n",
    "                linear_output = np.dot(X[i], self.weights) + self.bias\n",
    "                y_pred = self.activation(linear_output)\n",
    "                update = self.lr * (y[i] - y_pred)\n",
    "                if update:\n",
    "                    self.weights += update * X[i]\n",
    "                    self.bias   += update\n",
    "                    errors += 1\n",
    "            if errors == 0:\n",
    "                break\n",
    "\n",
    "    def predict(self, X):\n",
    "        return self.activation(np.dot(X, self.weights) + self.bias)"
   ]
  },
  {
   "cell_type": "code",
   "execution_count": null,
   "id": "81c70714-e9f1-4b3c-9460-07532960a612",
   "metadata": {},
   "outputs": [
    {
     "name": "stdout",
     "output_type": "stream",
     "text": [
      "(8, 25)\n",
      "(8,)\n"
     ]
    }
   ],
   "source": [
    "if __name__ == \"__main__\":\n",
    "\n",
    "    X = np.array([\n",
    "        [0,0,1,0,0,0,0,1,0,0,0,0,1,0,0,0,0,1,0,0,0,0,1,0,0],\n",
    "        [0,1,1,0,0,0,0,1,0,0,0,0,1,0,0,0,0,1,0,0,0,1,1,1,0],\n",
    "        [0,0,1,0,0,0,1,1,0,0,0,0,1,0,0,0,0,1,0,0,0,0,1,0,0],\n",
    "        [0,0,0,1,0,0,0,1,1,0,0,0,1,0,0,0,1,1,0,0,0,1,0,0,0],\n",
    "        [0,0,0,0,1,0,0,0,1,0,0,0,1,0,0,0,1,0,0,0,1,0,0,0,0],\n",
    "        [0,0,0,0,1,0,0,1,0,0,0,0,1,0,0,0,0,1,0,0,0,0,1,0,0],\n",
    "        [0,1,1,1,0,0,1,0,1,0,0,1,0,1,0,0,1,0,1,0,0,1,1,1,0],\n",
    "        [0,0,1,0,0,0,1,0,1,0,0,1,0,1,0,0,1,0,1,0,0,0,1,0,0],\n",
    "        [0,0,1,0,0,0,1,0,1,0,0,1,0,1,0,0,1,0,1,0,0,1,1,1,0],\n",
    "        [0,0,1,1,0,0,1,0,0,1,0,1,0,0,1,0,1,0,1,0,0,1,1,0,0],\n",
    "        [1,1,1,1,1,1,0,0,0,1,1,0,1,0,1,1,0,0,0,1,1,1,1,1,1],\n",
    "        [0,1,1,1,0,1,0,0,0,1,1,0,0,0,1,1,0,0,0,1,0,1,1,1,0]\n",
    "    ])\n",
    "    y = np.array([1,1,1,1,1,1,-1,-1,-1,-1,-1,-1])\n",
    "\n",
    "    X_train, X_test, y_train, y_test = train_test_split(\n",
    "        X, y, test_size=0.3, random_state=123)\n",
    "\n",
    "    clf = Perceptron(lr=0.01, n_iters=1000)\n",
    "    clf.fit(X_train, y_train)\n",
    "    print(\"y_test      :\", y_test)\n",
    "    print(\"predictions :\", clf.predict(X_test))\n"
   ]
  }
 ],
 "metadata": {
  "kernelspec": {
   "display_name": "Python 3 (ipykernel)",
   "language": "python",
   "name": "python3"
  },
  "language_info": {
   "codemirror_mode": {
    "name": "ipython",
    "version": 3
   },
   "file_extension": ".py",
   "mimetype": "text/x-python",
   "name": "python",
   "nbconvert_exporter": "python",
   "pygments_lexer": "ipython3",
   "version": "3.9.13"
  }
 },
 "nbformat": 4,
 "nbformat_minor": 5
}
